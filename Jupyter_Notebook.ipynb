{
 "cells": [
  {
   "cell_type": "markdown",
   "metadata": {},
   "source": [
    "<center>\n",
    "    <img src=\"https://cf-courses-data.s3.us.cloud-object-storage.appdomain.cloud/IBMDeveloperSkillsNetwork-DS0105EN-SkillsNetwork/labs/Module2/images/SN_web_lightmode.png\" width=\"300\" alt=\"cognitiveclass.ai logo\">\n",
    "</center>\n"
   ]
  },
  {
   "cell_type": "markdown",
   "metadata": {},
   "source": [
    "#### Add your code below following the instructions given in the course\n"
   ]
  },
  {
   "cell_type": "markdown",
   "metadata": {
    "tags": []
   },
   "source": [
    "# Lucky"
   ]
  },
  {
   "cell_type": "markdown",
   "metadata": {},
   "source": [
    "## Demonstrate learning outcomes"
   ]
  },
  {
   "cell_type": "markdown",
   "metadata": {},
   "source": [
    "1. **Python**\n",
    "2. **R**\n",
    "3. **SQL**\n",
    "4. **Julia**\n",
    "5. **SAS**\n",
    "6. **C/C++**\n",
    "7. **Perl**"
   ]
  },
  {
   "cell_type": "markdown",
   "metadata": {},
   "source": [
    "## Python\n",
    "1. **NumPy**: Fundamental package for numerical computing with Python.\n",
    "2. **Pandas**: Data manipulation and analysis library, providing data structures like DataFrames.\n",
    "3. **Matplotlib**: Plotting library for creating static, animated, and interactive visualizations.\n",
    "4. **Seaborn**: Statistical data visualization library based on Matplotlib.\n",
    "5. **Scikit-learn**: Machine learning library for Python, offering simple and efficient tools for data mining and data analysis.\n",
    "6. **TensorFlow**: Open-source framework for machine learning and deep learning, developed by Google.\n",
    "7. **Keras**: High-level neural networks API, running on top of TensorFlow.\n",
    "8. **PyTorch**: Open-source machine learning library based on the Torch library, developed by Facebook's AI Research lab.\n",
    "9. **SciPy**: Library used for scientific and technical computing, built on NumPy.\n",
    "10. **Statsmodels**: Module for statistical modeling and econometrics.\n",
    "\n",
    "## R\n",
    "1. **ggplot2**: Data visualization package for R, part of the tidyverse.\n",
    "2. **dplyr**: Data manipulation package for R, part of the tidyverse.\n",
    "3. **tidyr**: Package to help create tidy data, part of the tidyverse.\n",
    "4. **caret**: Package for machine learning in R, providing tools for data splitting, pre-processing, feature selection, and model tuning.\n",
    "5. **randomForest**: Implementation of the random forest algorithm for classification and regression.\n",
    "6. **shiny**: Package for building interactive web applications directly from R.\n",
    "\n",
    "## SQL\n",
    "1. **Apache Hive**: Data warehouse software facilitating reading, writing, and managing large datasets residing in distributed storage using SQL.\n",
    "2. **Apache Spark SQL**: Module for structured data processing within Apache Spark.\n",
    "\n",
    "## Julia\n",
    "1. **DataFrames.jl**: Provides a set of tools for working with tabular data in Julia.\n",
    "2. **Plots.jl**: Powerful plotting and visualization library for Julia.\n",
    "3. **Flux.jl**: Machine learning library for Julia, providing a flexible approach to model creation.\n",
    "4. **MLJ.jl**: Machine learning framework in Julia, providing tools for model evaluation, comparison, and tuning.\n",
    "\n",
    "## SAS\n",
    "1. **SAS/STAT**: Provides tools for statistical analysis in SAS.\n",
    "2. **SAS/ETS**: Econometrics and Time Series Analysis package.\n",
    "\n",
    "## Matlab\n",
    "1. **Statistics and Machine Learning Toolbox**: Provides tools for data analysis, machine learning, and statistics.\n",
    "2. **Deep Learning Toolbox**: Provides a framework for designing and implementing deep neural networks.\n",
    "\n",
    "## Scala\n",
    "1. **Apache Spark**: Unified analytics engine for big data processing, with built-in modules for streaming, SQL, machine learning, and graph processing.\n",
    "2. **Breeze**: Numerical processing library for Scala, providing support for linear algebra, numerical optimization, and probability distributions.\n",
    "\n",
    "## Java\n",
    "1. **Weka**: Collection of machine learning algorithms for data mining tasks.\n",
    "2. **Deeplearning4j**: Deep learning library for Java and Scala.\n",
    "\n",
    "## C/C++\n",
    "1. **Dlib**: Modern C++ toolkit containing machine learning algorithms and tools for creating complex software in C++ to solve real-world problems.\n",
    "2. **mlpack**: Fast, flexible machine learning library written in C++.\n",
    "\n",
    "## Perl\n",
    "1. **PDL (Perl Data Language)**: Provides large, N-dimensional data arrays for scientific computing tasks in Perl."
   ]
  },
  {
   "cell_type": "markdown",
   "metadata": {},
   "source": [
    "\n",
    "| Tool               | Function                                 | Key Features                                                                 |\n",
    "|--------------------|------------------------------------------|------------------------------------------------------------------------------|\n",
    "| **Jupyter Notebook** | Interactive computing environment       | Supports live code, equations, visualizations, and markdown text              |\n",
    "| **RStudio**        | Integrated development environment (IDE) for R | Advanced R programming capabilities, integrated data viewer, and visualization tools |\n",
    "| **Apache Spark**   | Big data processing framework            | Distributed computing, in-memory processing, supports multiple languages (Scala, Java, Python) |\n",
    "| **TensorFlow**     | Machine learning framework               | Extensive support for deep learning, scalable across various platforms       |\n",
    "| **Tableau**        | Data visualization                       | Drag-and-drop interface, connects to multiple data sources, interactive dashboards |\n",
    "| **Power BI**       | Business analytics service               | Data visualization, easy integration with Microsoft services, real-time dashboards |\n",
    "| **KNIME**          | Data analytics, reporting, and integration platform | Visual workflow design, supports various data sources, machine learning integration |\n",
    "| **RapidMiner**     | Data science platform                    | Visual workflow design, supports end-to-end data science processes, integrates with numerous data sources |\n",
    "| **Apache Hadoop**  | Big data processing framework            | Distributed storage and processing, fault-tolerant, supports large-scale data processing |\n",
    "| **Airflow**        | Workflow automation and scheduling       | Orchestrates complex computational workflows, supports integration with various data sources |\n",
    "| **Docker**         | Containerization platform                | Ensures consistency across environments, facilitates reproducible research, isolates dependencies |\n",
    "| **Kubernetes**     | Container orchestration                  | Automates deployment, scaling, and management of containerized applications  |\n",
    "| **Git**            | Version control system                   | Tracks changes in source code, facilitates collaboration, supports branching and merging |\n",
    "| **D3.js**          | Data visualization library for JavaScript | Creates dynamic and interactive data visualizations in web browsers          |\n",
    "| **MATLAB**         | Numerical computing environment          | Advanced mathematical functions, extensive toolboxes for various applications, powerful visualization capabilities |\n",
    "| **Orange**         | Data visualization and analysis          | Visual programming, interactive data analysis, supports various machine learning algorithms |\n",
    "| **SAS**            | Statistical analysis system              | Advanced analytics, multivariate analyses, business intelligence, data management |\n",
    "| **Excel**          | Spreadsheet software                     | Data analysis, visualization, pivot tables, widely used for simple data tasks |"
   ]
  },
  {
   "cell_type": "markdown",
   "metadata": {},
   "source": [
    "## Basic Operators\n",
    "1. **Addition (`+`)**\n",
    "   - **Example**: `5 + 3`\n",
    "   - **Explanation**: Adds 5 and 3 to get 8.\n",
    "   \n",
    "2. **Subtraction (`-`)**\n",
    "   - **Example**: `10 - 4`\n",
    "   - **Explanation**: Subtracts 4 from 10 to get 6.\n",
    "   \n",
    "3. **Multiplication (`*`)**\n",
    "   - **Example**: `7 * 2`\n",
    "   - **Explanation**: Multiplies 7 by 2 to get 14.\n",
    "   \n",
    "4. **Division (`/`)**\n",
    "   - **Example**: `20 / 5`\n",
    "   - **Explanation**: Divides 20 by 5 to get 4.\n",
    "   \n",
    "5. **Exponentiation (`**` or `^`)**\n",
    "   - **Example**: `3 ** 2` or `3 ^ 2`\n",
    "   - **Explanation**: Raises 3 to the power of 2 to get 9.\n",
    "\n",
    "## Complex Expressions\n",
    "1. **Combining Operations**\n",
    "   - **Example**: `4 + 3 * 2`\n",
    "   - **Explanation**: Multiplies 3 by 2 and then adds 4 to get 10. (Order of operations: multiplication before addition)\n",
    "\n",
    "2. **Using Parentheses**\n",
    "   - **Example**: `(4 + 3) * 2`\n",
    "   - **Explanation**: Adds 4 and 3 first (inside the parentheses) and then multiplies by 2 to get 14. (Parentheses alter the order of operations)\n",
    "\n",
    "## Variables in Expressions\n",
    "1. **Single Variable**\n",
    "   - **Example**: `x + 5`\n",
    "   - **Explanation**: Adds 5 to the value of `x`.\n",
    "\n",
    "2. **Multiple Variables**\n",
    "   - **Example**: `a * b + c`\n",
    "   - **Explanation**: Multiplies `a` by `b` and then adds `c`."
   ]
  },
  {
   "cell_type": "code",
   "execution_count": 4,
   "metadata": {
    "tags": []
   },
   "outputs": [
    {
     "data": {
      "text/plain": [
       "18"
      ]
     },
     "execution_count": 4,
     "metadata": {},
     "output_type": "execute_result"
    }
   ],
   "source": [
    "6*3"
   ]
  },
  {
   "cell_type": "code",
   "execution_count": 3,
   "metadata": {
    "tags": []
   },
   "outputs": [
    {
     "data": {
      "text/plain": [
       "10"
      ]
     },
     "execution_count": 3,
     "metadata": {},
     "output_type": "execute_result"
    }
   ],
   "source": [
    "5+5"
   ]
  },
  {
   "cell_type": "code",
   "execution_count": 9,
   "metadata": {
    "tags": []
   },
   "outputs": [],
   "source": [
    "def minutes_to_hours(minutes):\n",
    "    hours = minutes / 60\n",
    "    return hours"
   ]
  },
  {
   "cell_type": "markdown",
   "metadata": {},
   "source": [
    "1. **Understand the concept of arithmetic expressions**:\n",
    "   - Learn how to perform basic arithmetic operations like addition, subtraction, multiplication, and division.\n",
    "   - Understand the order of operations (PEMDAS/BODMAS) in complex expressions.\n",
    "\n",
    "2. **Master the use of variables in expressions**:\n",
    "   - Learn how to use variables to represent numbers in arithmetic expressions.\n",
    "   - Understand how to manipulate variables in expressions.\n",
    "\n",
    "3. **Practice combining multiple operations**:\n",
    "   - Practice combining addition, subtraction, multiplication, and division in single expressions.\n",
    "   - Learn how to use parentheses to change the order of operations.\n",
    "\n",
    "4. **Apply arithmetic expressions in programming**:\n",
    "   - Learn how to evaluate arithmetic expressions in programming languages like Python.\n",
    "   - Practice writing code to perform arithmetic operations and handle the results.\n",
    "\n",
    "5. **Develop problem-solving skills**:\n",
    "   - Solve arithmetic problems that require the application of multiple operations.\n",
    "   - Apply arithmetic concepts to real-world problems and scenarios."
   ]
  },
  {
   "cell_type": "markdown",
   "metadata": {},
   "source": [
    "# Author\n",
    "\n",
    "This document was created by [LIncan Wu]."
   ]
  },
  {
   "cell_type": "code",
   "execution_count": null,
   "metadata": {},
   "outputs": [],
   "source": []
  }
 ],
 "metadata": {
  "kernelspec": {
   "display_name": "Python",
   "language": "python",
   "name": "conda-env-python-py"
  },
  "language_info": {
   "codemirror_mode": {
    "name": "ipython",
    "version": 3
   },
   "file_extension": ".py",
   "mimetype": "text/x-python",
   "name": "python",
   "nbconvert_exporter": "python",
   "pygments_lexer": "ipython3",
   "version": "3.7.12"
  }
 },
 "nbformat": 4,
 "nbformat_minor": 4
}
